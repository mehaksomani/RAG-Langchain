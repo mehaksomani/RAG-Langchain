{
 "cells": [
  {
   "cell_type": "code",
   "execution_count": 1,
   "id": "195b7604",
   "metadata": {},
   "outputs": [
    {
     "name": "stdout",
     "output_type": "stream",
     "text": [
      "Note: you may need to restart the kernel to use updated packages.\n"
     ]
    }
   ],
   "source": [
    "%pip install -qU langchain-community langchain-huggingface"
   ]
  },
  {
   "cell_type": "code",
   "execution_count": 2,
   "id": "deb8abfa",
   "metadata": {},
   "outputs": [
    {
     "name": "stderr",
     "output_type": "stream",
     "text": [
      "USER_AGENT environment variable not set, consider setting it to identify your requests.\n"
     ]
    },
    {
     "name": "stdout",
     "output_type": "stream",
     "text": [
      "Number of chunks:  430\n"
     ]
    },
    {
     "name": "stderr",
     "output_type": "stream",
     "text": [
      "c:\\Users\\sekkei35\\Desktop\\RAG\\.venv\\Lib\\site-packages\\tqdm\\auto.py:21: TqdmWarning: IProgress not found. Please update jupyter and ipywidgets. See https://ipywidgets.readthedocs.io/en/stable/user_install.html\n",
      "  from .autonotebook import tqdm as notebook_tqdm\n",
      "Xet Storage is enabled for this repo, but the 'hf_xet' package is not installed. Falling back to regular HTTP download. For better performance, install the package with: `pip install huggingface_hub[hf_xet]` or `pip install hf_xet`\n"
     ]
    }
   ],
   "source": [
    "from langchain_community.document_loaders import WebBaseLoader\n",
    "from langchain_text_splitters import RecursiveCharacterTextSplitter\n",
    "from langchain_huggingface import HuggingFaceEmbeddings\n",
    "\n",
    "loader = WebBaseLoader(\"https://www.govinfo.gov/content/pkg/CDOC-110hdoc50/html/CDOC-110hdoc50.htm\")\n",
    "documents = loader.load()\n",
    "\n",
    "text_splitter = RecursiveCharacterTextSplitter(chunk_size=1000, chunk_overlap=200, separators=[\"\\n\\n\", \"\\n\", \" \", \"\"])\n",
    "chunks = text_splitter.split_documents(documents)\n",
    "print(\"Number of chunks: \", len(chunks))\n",
    "\n",
    "# Instantiate the embeddings model. The embeddings model_name can be changed as desired\n",
    "embeddings = HuggingFaceEmbeddings(model_name=\"sentence-transformers/all-MiniLM-L6-v2\")"
   ]
  },
  {
   "cell_type": "code",
   "execution_count": 3,
   "id": "f4283bdc",
   "metadata": {},
   "outputs": [
    {
     "name": "stdout",
     "output_type": "stream",
     "text": [
      "Note: you may need to restart the kernel to use updated packages.\n"
     ]
    },
    {
     "data": {
      "text/plain": [
       "430"
      ]
     },
     "execution_count": 3,
     "metadata": {},
     "output_type": "execute_result"
    }
   ],
   "source": [
    "%pip install faiss-cpu --quiet\n",
    "\n",
    "# Import FAISS class from vectorstore library\n",
    "from langchain_community.vectorstores import FAISS\n",
    "\n",
    "# Create the database\n",
    "vectore_store = FAISS.from_documents(chunks, embeddings)\n",
    "\n",
    "# Check the number of chunks that have been indexed\n",
    "vectore_store.index.ntotal"
   ]
  },
  {
   "cell_type": "code",
   "execution_count": 4,
   "id": "e6f57efc",
   "metadata": {},
   "outputs": [
    {
     "name": "stdout",
     "output_type": "stream",
     "text": [
      "--------------------------------------------------------------------------------\n",
      "Section 1. No person shall be elected to the office of the \n",
      "President more than twice, and no person who has held the \n",
      "office of President, or acted as President, for more than two \n",
      "years of a term of which some other person was elected \n",
      "President shall be elected to the office of the President more \n",
      "than once. But this Article shall not apply to any person \n",
      "holding the office of President when this Article was proposed \n",
      "by the Congress, and shall not prevent any person who may be \n",
      "holding the office of President, or acting as President, during \n",
      "the term within which this Article becomes operative from \n",
      "holding the office of President or acting as President during \n",
      "the remainder of such term.\n",
      "    Section 2. This article shall be inoperative unless it \n",
      "shall have been ratified as an amendment to the Constitution by \n",
      "the legislatures of three-fourths of the several States within \n",
      "seven years from the date of its submission to the States by \n",
      "the Congress.\n",
      "\n",
      "\n",
      "\n",
      "--------------------------------------------------------------------------------\n",
      "increased during the.....................\n",
      "Term of office. President, not more than           22    .......  ......\n",
      " twice. [Amendments]......................\n",
      "Terms of four years. The President and              2          1       1\n",
      " Vice President shall hold their offices\n",
      " for the..................................\n",
      "Territory or other property of the United           4          3       2\n",
      " States. Congress shall dispose of and\n",
      " make all needful rules and regulations\n",
      " respecting the...........................\n",
      "Test as a qualification for any office or           6    .......       3\n",
      " public trust shall ever be required. No\n",
      " religious................................\n",
      "Testimony of two witnesses to the same              3          3       1\n",
      " overt act, or on confession in open\n",
      " court. No person shall be convicted of\n",
      " treason except on the....................\n",
      "Three-fourths of the legislatures of the            5    .......  ......\n",
      " States, or conventions in three-fourths\n",
      "\n",
      "\n",
      "\n",
      "--------------------------------------------------------------------------------\n",
      "Section 1. The terms of the President and Vice President \n",
      "shall end at noon on the 20th day of January, and the terms of \n",
      "Senators and Representatives at noon on the 3d day of January, \n",
      "of the years in which such terms would have ended if this \n",
      "article had not been ratified; and the terms of their \n",
      "successors shall then begin.\n",
      "    Section 2. The Congress shall assemble at least once in \n",
      "every year, and such meeting shall begin at noon on the 3d day \n",
      "of January, unless they shall by law appoint a different day.\n",
      "    Section 3. If, at the time fixed for the beginning of the \n",
      "term of the President, the President elect shall have died, the \n",
      "Vice President elect shall become President. If a President \n",
      "shall not have been chosen before the time fixed for the \n",
      "beginning of his term, or if the President elect shall have \n",
      "failed to qualify, then the Vice President elect shall act as \n",
      "President until a President shall have qualified; and the\n",
      "\n",
      "\n",
      "\n"
     ]
    }
   ],
   "source": [
    "query = \"how long does the president's term last?\"\n",
    "docs = vectore_store.similarity_search(query, k=3) # returns the top 3 chunks\n",
    "\n",
    "# print the chunks\n",
    "for doc in docs:\n",
    "    print(\"-\" * 80)\n",
    "    print(doc.page_content)\n",
    "    print(\"\\n\" * 2)\n"
   ]
  },
  {
   "cell_type": "code",
   "execution_count": 10,
   "id": "ec90ac5b",
   "metadata": {},
   "outputs": [],
   "source": [
    "vectore_store.save_local(\"vector_db\")\n",
    "\n",
    "# loading the vector database\n",
    "vectore_store = FAISS.load_local(\"vector_db\", embeddings, allow_dangerous_deserialization=True)"
   ]
  }
 ],
 "metadata": {
  "kernelspec": {
   "display_name": ".venv",
   "language": "python",
   "name": "python3"
  },
  "language_info": {
   "codemirror_mode": {
    "name": "ipython",
    "version": 3
   },
   "file_extension": ".py",
   "mimetype": "text/x-python",
   "name": "python",
   "nbconvert_exporter": "python",
   "pygments_lexer": "ipython3",
   "version": "3.13.5"
  }
 },
 "nbformat": 4,
 "nbformat_minor": 5
}
